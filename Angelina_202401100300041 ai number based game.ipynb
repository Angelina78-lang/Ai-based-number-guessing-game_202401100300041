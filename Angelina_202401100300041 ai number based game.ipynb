{
  "nbformat": 4,
  "nbformat_minor": 0,
  "metadata": {
    "colab": {
      "provenance": []
    },
    "kernelspec": {
      "name": "python3",
      "display_name": "Python 3"
    },
    "language_info": {
      "name": "python"
    }
  },
  "cells": [
    {
      "cell_type": "code",
      "source": [
        "import random\n",
        "\n",
        "def ai_guess_number():\n",
        "    \"\"\"\n",
        "    This function implements an AI-based number guessing game.\n",
        "    The AI will try to guess the number you are thinking of within a specified range.\n",
        "    \"\"\"\n",
        "\n",
        "    # Step 1: Define the range of numbers\n",
        "    low = 1\n",
        "    high = 100\n",
        "\n",
        "    print(f\"Think of a number between {low} and {high}.\")\n",
        "    input(\"Press Enter when you're ready...\")\n",
        "\n",
        "    # Step 2: Initialize the number of attempts\n",
        "    attempts = 0\n",
        "\n",
        "    # Step 3: AI starts guessing using binary search\n",
        "    while low <= high:\n",
        "        attempts += 1\n",
        "\n",
        "        # AI makes a guess in the middle of the current range\n",
        "        guess = (low + high) // 2\n",
        "        print(f\"Is your number {guess}?\")\n",
        "\n",
        "        # Step 4: Get user feedback\n",
        "        feedback = input(\"Enter 'h' if the number is higher, 'l' if it's lower, or 'c' if it's correct: \").strip().lower()\n",
        "\n",
        "        # Step 5: Adjust the range based on user feedback\n",
        "        if feedback == 'h':\n",
        "            low = guess + 1\n",
        "        elif feedback == 'l':\n",
        "            high = guess - 1\n",
        "        elif feedback == 'c':\n",
        "            print(f\"Yay! The AI guessed your number in {attempts} attempts.\")\n",
        "            break\n",
        "        else:\n",
        "            print(\"Invalid input. Please enter 'h', 'l', or 'c'.\")\n",
        "    else:\n",
        "        print(\"Hmm, it seems there was a misunderstanding. Let's try again!\")\n",
        "\n",
        "# Run the game\n",
        "if __name__ == \"__main__\":\n",
        "    ai_guess_number()"
      ],
      "metadata": {
        "colab": {
          "base_uri": "https://localhost:8080/"
        },
        "id": "VGPnROneiyUl",
        "outputId": "c8e54207-1787-427e-c5b1-65342e18733d"
      },
      "execution_count": null,
      "outputs": [
        {
          "output_type": "stream",
          "name": "stdout",
          "text": [
            "Think of a number between 1 and 100.\n",
            "Press Enter when you're ready...7\n",
            "Is your number 50?\n",
            "Enter 'h' if the number is higher, 'l' if it's lower, or 'c' if it's correct: l\n",
            "Is your number 25?\n",
            "Enter 'h' if the number is higher, 'l' if it's lower, or 'c' if it's correct: l\n",
            "Is your number 12?\n",
            "Enter 'h' if the number is higher, 'l' if it's lower, or 'c' if it's correct: l\n",
            "Is your number 6?\n",
            "Enter 'h' if the number is higher, 'l' if it's lower, or 'c' if it's correct: h\n",
            "Is your number 9?\n",
            "Enter 'h' if the number is higher, 'l' if it's lower, or 'c' if it's correct: l\n",
            "Is your number 7?\n",
            "Enter 'h' if the number is higher, 'l' if it's lower, or 'c' if it's correct: c\n",
            "Yay! The AI guessed your number in 6 attempts.\n"
          ]
        }
      ]
    }
  ]
}